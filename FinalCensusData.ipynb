{
  "nbformat": 4,
  "nbformat_minor": 0,
  "metadata": {
    "colab": {
      "name": "FinalCensusData.ipynb",
      "provenance": [],
      "collapsed_sections": [],
      "include_colab_link": true
    },
    "kernelspec": {
      "name": "python3",
      "display_name": "Python 3"
    },
    "accelerator": "GPU"
  },
  "cells": [
    {
      "cell_type": "markdown",
      "metadata": {
        "id": "view-in-github",
        "colab_type": "text"
      },
      "source": [
        "<a href=\"https://colab.research.google.com/github/kaden-weber/260CreativeProject1/blob/master/FinalCensusData.ipynb\" target=\"_parent\"><img src=\"https://colab.research.google.com/assets/colab-badge.svg\" alt=\"Open In Colab\"/></a>"
      ]
    },
    {
      "cell_type": "code",
      "metadata": {
        "id": "3_HTEQJip-bg",
        "colab_type": "code",
        "colab": {}
      },
      "source": [
        "# lab 10 imports \n",
        "from torchvision.models import resnet152\n",
        "from torchvision import transforms, datasets\n",
        "from torch.utils.data import DataLoader, Dataset\n",
        "import torch\n",
        "from torch import optim, nn\n",
        "import zipfile\n",
        "from google.colab import files\n",
        "import os\n",
        "import sys\n",
        "from PIL import Image, ImageOps\n",
        "from tqdm import tqdm\n",
        "import numpy as np\n",
        "from matplotlib import pyplot as plt\n"
      ],
      "execution_count": 0,
      "outputs": []
    },
    {
      "cell_type": "code",
      "metadata": {
        "id": "VzhQScARfisO",
        "colab_type": "code",
        "colab": {}
      },
      "source": [
        "# style \n",
        "\n",
        "### Used to style Python print statements, \n",
        "    # from https://stackoverflow.com/users/1770999/boubakr via Patrick Stetz\n",
        "class color:\n",
        "    BOLD = '\\033[1m'\n",
        "    UNDERLINE = '\\033[4m'\n",
        "    END = '\\033[0m'"
      ],
      "execution_count": 0,
      "outputs": []
    },
    {
      "cell_type": "code",
      "metadata": {
        "id": "Lz_XtMJSDhB0",
        "colab_type": "code",
        "colab": {}
      },
      "source": [
        "# my imports\n",
        "import pandas as pd\n",
        "import torch.nn.functional as F\n",
        "import random\n"
      ],
      "execution_count": 0,
      "outputs": []
    },
    {
      "cell_type": "code",
      "metadata": {
        "id": "6_gT6IQwtORk",
        "colab_type": "code",
        "outputId": "2eb4e634-3de5-41fa-8684-7ecfd1edd854",
        "colab": {
          "resources": {
            "http://localhost:8080/nbextensions/google.colab/files.js": {
              "data": "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",
              "ok": true,
              "headers": [
                [
                  "content-type",
                  "application/javascript"
                ]
              ],
              "status": 200,
              "status_text": ""
            }
          },
          "base_uri": "https://localhost:8080/",
          "height": 88
        }
      },
      "source": [
        "# auth with kaggle\n",
        "# Run this cell and select the kaggle.json file downloaded\n",
        "# from the Kaggle account settings page.\n",
        "from google.colab import files\n",
        "files.upload()\n",
        "# Next, install the Kaggle API client.\n",
        "!pip install -q kaggle\n",
        "# Let's make sure the kaggle.json file is present.\n",
        "!ls -lha kaggle.json\n",
        "# The Kaggle API client expects this file to be in ~/.kaggle,\n",
        "# so move it there.\n",
        "!mkdir -p ~/.kaggle\n",
        "!mv kaggle.json ~/.kaggle/\n",
        "# This permissions change avoids a warning on Kaggle tool startup.\n",
        "!chmod 600 ~/.kaggle/kaggle.json"
      ],
      "execution_count": 4,
      "outputs": [
        {
          "output_type": "display_data",
          "data": {
            "text/html": [
              "\n",
              "     <input type=\"file\" id=\"files-834211e2-472a-4eac-861e-d4ca18faae07\" name=\"files[]\" multiple disabled />\n",
              "     <output id=\"result-834211e2-472a-4eac-861e-d4ca18faae07\">\n",
              "      Upload widget is only available when the cell has been executed in the\n",
              "      current browser session. Please rerun this cell to enable.\n",
              "      </output>\n",
              "      <script src=\"/nbextensions/google.colab/files.js\"></script> "
            ],
            "text/plain": [
              "<IPython.core.display.HTML object>"
            ]
          },
          "metadata": {
            "tags": []
          }
        },
        {
          "output_type": "stream",
          "text": [
            "Saving kaggle.json to kaggle.json\n",
            "-rw-r--r-- 1 root root 66 Dec 17 21:04 kaggle.json\n"
          ],
          "name": "stdout"
        }
      ]
    },
    {
      "cell_type": "code",
      "metadata": {
        "id": "oGaEUkHdrbU9",
        "colab_type": "code",
        "outputId": "031ff274-e582-45bb-b580-99cb154e6d5d",
        "colab": {
          "base_uri": "https://localhost:8080/",
          "height": 68
        }
      },
      "source": [
        "#download dataset\n",
        "!kaggle datasets download -d muonneutrino/us-census-demographic-data"
      ],
      "execution_count": 5,
      "outputs": [
        {
          "output_type": "stream",
          "text": [
            "Downloading us-census-demographic-data.zip to /content\n",
            "\r  0% 0.00/10.6M [00:00<?, ?B/s]\n",
            "\r100% 10.6M/10.6M [00:00<00:00, 97.4MB/s]\n"
          ],
          "name": "stdout"
        }
      ]
    },
    {
      "cell_type": "code",
      "metadata": {
        "id": "FrAEIg_Iroe5",
        "colab_type": "code",
        "outputId": "2704e04a-94b1-403a-a4ae-07ecaeef6040",
        "colab": {
          "base_uri": "https://localhost:8080/",
          "height": 51
        }
      },
      "source": [
        "# unzip and import with pandas\n",
        "\n",
        "def extract_zip(zip_file, extract_dir):\n",
        "  print(\"Extracting\", zip_file)\n",
        "  print(\"To\", extract_dir)\n",
        "  with zipfile.ZipFile(zip_file, 'r') as zip_ref:\n",
        "      zip_ref.extractall(extract_dir)\n",
        "\n",
        "def read(csv_path):\n",
        "  return pd.read_csv(csv_path, encoding='latin-1')\n",
        "\n",
        "def unzip_once():\n",
        "  zip_file='/content/us-census-demographic-data.zip'\n",
        "  extract_dir = os.path.splitext(zip_file)[0]\n",
        "  if not os.path.exists(extract_dir):\n",
        "    os.makedirs(extract_dir)\n",
        "  extract_zip(zip_file, extract_dir)\n",
        "\n",
        "unzip_once() \n",
        "county_2015 = read(\n",
        "    '../content/us-census-demographic-data/acs2015_county_data.csv')\n",
        "tract_2015 = read(\n",
        "    '../content/us-census-demographic-data/acs2015_census_tract_data.csv')\n",
        "county_2017 = read(\n",
        "    '../content/us-census-demographic-data/acs2017_county_data.csv')\n",
        "tract_2017 = read(\n",
        "    '../content/us-census-demographic-data/acs2017_census_tract_data.csv')\n",
        "data_2015 = (county_2015, tract_2015)\n",
        "data_2017 = (county_2017, tract_2017)\n",
        "data_all = (county_2015, tract_2015, county_2017, tract_2017)"
      ],
      "execution_count": 6,
      "outputs": [
        {
          "output_type": "stream",
          "text": [
            "Extracting /content/us-census-demographic-data.zip\n",
            "To /content/us-census-demographic-data\n"
          ],
          "name": "stdout"
        }
      ]
    },
    {
      "cell_type": "code",
      "metadata": {
        "id": "jikTLvYxF7lL",
        "colab_type": "code",
        "outputId": "ae88fce0-6244-4b58-f3de-b993f9650f86",
        "colab": {
          "base_uri": "https://localhost:8080/",
          "height": 1000
        }
      },
      "source": [
        "# prep data \n",
        "# dropped = 0\n",
        "# for csv in data_all:\n",
        "#   len_before = len(csv)\n",
        "#   csv = csv.drop(csv[csv.TotalPop == 0].index)\n",
        "#   len_after = len(csv)\n",
        "#   dropped += len_before - len_after\n",
        "\n",
        "#   # if we had more time, we could add these back as a one hot incoding\n",
        "#   csv = csv.drop(['State', 'County'], axis=1)\n",
        "\n",
        "# print(\"Number of rows removed with zero population: {}{}{}\".format(\n",
        "#     color.BOLD, dropped, color.END))\n",
        "\n",
        "# print(\"example entry:\\n\", data_all[1])\n",
        "\n",
        "# tract_2015 = tract_2015.drop(tract_2015[tract_2015.TotalPop == 0].index)\n",
        "tract_2015 = tract_2015.drop(['State', 'County'], axis=1)\n",
        "\n",
        "# tract_2017 = tract_2017.drop(tract_2017[tract_2017.TotalPop == 0].index)\n",
        "tract_2017 = tract_2017.drop(['State', 'County'], axis=1)\n",
        "\n",
        "tract_2015 = tract_2015.dropna()\n",
        "tract_2017 = tract_2017.dropna()\n",
        "\n",
        "print(tract_2015)\n",
        "print(tract_2017)\n",
        "print(tract_2017.iloc[0])\n",
        "# ensure rows match by ID, assume in order, just take out ones without a match\n",
        "\n",
        "        # ex.  truth_data = torch.from_numpy(self.file_data.iloc[idx, 1:3].values.astype(np.float32))\n",
        "\n",
        "# for row in range(len(tract_2015) - 1):\n",
        "#   if tract_2015.iloc[row, 0] not in tract_2017.iloc[0]:\n",
        "#     tract_2015 = tract_2015.drop([row])\n",
        "\n",
        "# for row in range(len(tract_2017) -1 ):\n",
        "#   if tract_2017.iloc[row, 0] not in tract_2015.iloc[0]:\n",
        "#     tract_2017 = tract_2017.drop([row])"
      ],
      "execution_count": 7,
      "outputs": [
        {
          "output_type": "stream",
          "text": [
            "       CensusTract  TotalPop   Men  ...  SelfEmployed  FamilyWork  Unemployment\n",
            "0       1001020100      1948   940  ...           4.6         0.0           5.4\n",
            "1       1001020200      2156  1059  ...           6.1         0.0          13.3\n",
            "2       1001020300      2968  1364  ...          12.3         0.0           6.2\n",
            "3       1001020400      4423  2172  ...           3.1         0.0          10.8\n",
            "4       1001020500     10763  4922  ...           5.3         0.0           4.2\n",
            "...            ...       ...   ...  ...           ...         ...           ...\n",
            "73996  72153750501      6205  3291  ...           3.9         0.0          21.3\n",
            "73997  72153750502      2122   921  ...           3.3         0.0          22.4\n",
            "73998  72153750503      2277  1097  ...           9.5         0.0          23.3\n",
            "73999  72153750601      5267  2663  ...           1.3         0.0          26.7\n",
            "74000  72153750602      2741  1181  ...           7.7         0.0          20.1\n",
            "\n",
            "[72727 rows x 35 columns]\n",
            "           TractId  TotalPop   Men  ...  SelfEmployed  FamilyWork  Unemployment\n",
            "0       1001020100      1845   899  ...           4.5         0.0           4.6\n",
            "1       1001020200      2172  1167  ...           9.0         0.0           3.4\n",
            "2       1001020300      3385  1533  ...           4.8         0.7           4.7\n",
            "3       1001020400      4267  2001  ...           4.5         0.0           6.1\n",
            "4       1001020500      9965  5054  ...           4.5         0.0           2.3\n",
            "...            ...       ...   ...  ...           ...         ...           ...\n",
            "73996  72153750501      6011  3035  ...           7.0         0.0          20.8\n",
            "73997  72153750502      2342   959  ...           6.2         0.0          26.3\n",
            "73998  72153750503      2218  1001  ...           8.0         0.0          23.0\n",
            "73999  72153750601      4380  1964  ...           1.9         0.0          29.5\n",
            "74000  72153750602      3001  1343  ...           5.0         0.0          17.9\n",
            "\n",
            "[72718 rows x 35 columns]\n",
            "TractId             1.001020e+09\n",
            "TotalPop            1.845000e+03\n",
            "Men                 8.990000e+02\n",
            "Women               9.460000e+02\n",
            "Hispanic            2.400000e+00\n",
            "White               8.630000e+01\n",
            "Black               5.200000e+00\n",
            "Native              0.000000e+00\n",
            "Asian               1.200000e+00\n",
            "Pacific             0.000000e+00\n",
            "VotingAgeCitizen    1.407000e+03\n",
            "Income              6.782600e+04\n",
            "IncomeErr           1.456000e+04\n",
            "IncomePerCap        3.301800e+04\n",
            "IncomePerCapErr     6.294000e+03\n",
            "Poverty             1.070000e+01\n",
            "ChildPoverty        2.080000e+01\n",
            "Professional        3.850000e+01\n",
            "Service             1.560000e+01\n",
            "Office              2.280000e+01\n",
            "Construction        1.080000e+01\n",
            "Production          1.240000e+01\n",
            "Drive               9.420000e+01\n",
            "Carpool             3.300000e+00\n",
            "Transit             0.000000e+00\n",
            "Walk                5.000000e-01\n",
            "OtherTransp         0.000000e+00\n",
            "WorkAtHome          2.100000e+00\n",
            "MeanCommute         2.450000e+01\n",
            "Employed            8.810000e+02\n",
            "PrivateWork         7.420000e+01\n",
            "PublicWork          2.120000e+01\n",
            "SelfEmployed        4.500000e+00\n",
            "FamilyWork          0.000000e+00\n",
            "Unemployment        4.600000e+00\n",
            "Name: 0, dtype: float64\n"
          ],
          "name": "stdout"
        }
      ]
    },
    {
      "cell_type": "code",
      "metadata": {
        "id": "eA2ipeWyDyvy",
        "colab_type": "code",
        "colab": {}
      },
      "source": [
        "# convert to tensors!  \n",
        "# print('tract 15:\\n', tract_2015.loc[0])\n",
        "# tract_15_tensors = []\n",
        "# for entry in tract_2015.values:\n",
        "#   tract_15_tensors.append(torch.from_numpy(entry))\n",
        "# print('tract 0:\\n', tract_15_tensors[0])\n",
        "# county_15_t = torch.from_numpy(county_2015.values)\n",
        "# tract_15_t = torch.from_numpy(tract_2015.values)\n",
        "# county_17_t = torch.from_numpy(county_2017.values)\n",
        "# tract_17_t = torch.from_numpy(tract_2017.values)"
      ],
      "execution_count": 0,
      "outputs": []
    },
    {
      "cell_type": "code",
      "metadata": {
        "id": "60VsYUhKrs5H",
        "colab_type": "code",
        "outputId": "2355756e-d6fb-4061-b423-8374dc2b121b",
        "colab": {
          "base_uri": "https://localhost:8080/",
          "height": 238
        }
      },
      "source": [
        "#dataset\n",
        "\n",
        "class USCensusTractDataset(Dataset):\n",
        "  def __init__(self, start_tracts, end_tracts, train=True, upload=False):\n",
        "    super(USCensusTractDataset, self).__init__()\n",
        "    self.start_tracts = start_tracts\n",
        "    self.end_tracts = end_tracts\n",
        "\n",
        "    self.start_t = torch.from_numpy(start_tracts.values.astype(np.float32))\n",
        "    self.end_t = torch.from_numpy(end_tracts.values.astype(np.float32))\n",
        "    self.dataset = self.couple(self.start_t, self.end_t)\n",
        "    # self.start_t = torch.from_numpy(start_tracts.values)\n",
        "    # self.end_t = torch.from_numpy(end_tracts.values)\n",
        "\n",
        "    self.train = train\n",
        "    # do any data prep here\n",
        "\n",
        "  def couple(self, start_t, end_t):\n",
        "    coupledDataset = []\n",
        "    for i in range(len(start_t)):\n",
        "      row = start_t[i]\n",
        "      start = i - 20\n",
        "      if start < 0:\n",
        "        start = 0\n",
        "      stop = i + 20\n",
        "      if stop >= len(end_t):\n",
        "        stop = len(end_t - 1)\n",
        "      match = self.findRowByID(end_t, start, stop, row[0])\n",
        "      if match is not None:\n",
        "        coupledDataset.append((row, match))\n",
        "    return coupledDataset\n",
        "\n",
        "  \n",
        "  def findRowByID(self, tensor, start, stop, id):\n",
        "    # id is first entry in row\n",
        "    for i in range(start, stop):\n",
        "      # print(row)\n",
        "      # print(row[0])\n",
        "      # print(id)\n",
        "      if tensor[i, 0] == id:\n",
        "        return tensor[i]\n",
        "    return None\n",
        "\n",
        "  def __getitem__(self, i):\n",
        "    # start_data = self.start_t[i]\n",
        "    # end_data = self.end_t[i]\n",
        "\n",
        "    # if start_data[0] == end_data[0]:\n",
        "    #   return start_data, end_data       \n",
        "    # else:\n",
        "    #   return start_data, self.findRowByID(self.end_t, start_data[0])\n",
        "    return self.dataset[i]\n",
        "\n",
        "  def __len__(self):\n",
        "    # return len(self.start_t)\n",
        "    return len(self.dataset)\n",
        "\n",
        "#example dataset that imports pandas dataframe\n",
        "class EventsDataset(Dataset):\n",
        "    def __init__(self, root_folder, data_set_name, numrows = None, mns_file_name = None ):\n",
        "        self.my_file_name = os.path.join( root_folder, data_set_name )\n",
        "        file_data = pd.read_csv(self.my_file_name, nrows = numrows )\n",
        "        self.tensor_data = torch.from_numpy( file_data.values.astype(np.float32)  )\n",
        "        del file_data\n",
        "\n",
        "    def __len__(self):\n",
        "        return len(self.tensor_data)\n",
        "\n",
        "    def __getitem__(self, idx):\n",
        "        truth_data = self.tensor_data[idx, 1:3]\n",
        "        recon_data = self.tensor_data[idx, 4:]\n",
        "        return recon_data, truth_data\n",
        "\n",
        "\n",
        "dataset = USCensusTractDataset(tract_2015, tract_2017)\n",
        "item = dataset.__getitem__(0)\n",
        "print(dataset.__len__())\n",
        "print(item[0])\n",
        "print(item[1])\n",
        "\n"
      ],
      "execution_count": 9,
      "outputs": [
        {
          "output_type": "stream",
          "text": [
            "72721\n",
            "tensor([1.0010e+09, 1.9480e+03, 9.4000e+02, 1.0080e+03, 9.0000e-01, 8.7400e+01,\n",
            "        7.7000e+00, 3.0000e-01, 6.0000e-01, 0.0000e+00, 1.5030e+03, 6.1838e+04,\n",
            "        1.1900e+04, 2.5713e+04, 4.5480e+03, 8.1000e+00, 8.4000e+00, 3.4700e+01,\n",
            "        1.7000e+01, 2.1300e+01, 1.1900e+01, 1.5200e+01, 9.0200e+01, 4.8000e+00,\n",
            "        0.0000e+00, 5.0000e-01, 2.3000e+00, 2.1000e+00, 2.5000e+01, 9.4300e+02,\n",
            "        7.7100e+01, 1.8300e+01, 4.6000e+00, 0.0000e+00, 5.4000e+00])\n",
            "tensor([1.0010e+09, 1.8450e+03, 8.9900e+02, 9.4600e+02, 2.4000e+00, 8.6300e+01,\n",
            "        5.2000e+00, 0.0000e+00, 1.2000e+00, 0.0000e+00, 1.4070e+03, 6.7826e+04,\n",
            "        1.4560e+04, 3.3018e+04, 6.2940e+03, 1.0700e+01, 2.0800e+01, 3.8500e+01,\n",
            "        1.5600e+01, 2.2800e+01, 1.0800e+01, 1.2400e+01, 9.4200e+01, 3.3000e+00,\n",
            "        0.0000e+00, 5.0000e-01, 0.0000e+00, 2.1000e+00, 2.4500e+01, 8.8100e+02,\n",
            "        7.4200e+01, 2.1200e+01, 4.5000e+00, 0.0000e+00, 4.6000e+00])\n"
          ],
          "name": "stdout"
        }
      ]
    },
    {
      "cell_type": "code",
      "metadata": {
        "id": "5jM-OpWIrvjw",
        "colab_type": "code",
        "colab": {}
      },
      "source": [
        "#network(s)\n",
        "\n",
        "#mnist example (from similar csv)\n",
        "class Classifier(nn.Module):\n",
        "    def __init__(self):\n",
        "        super().__init__()\n",
        "        self.fc1 = nn.Linear(784, 512)\n",
        "        self.fc2 = nn.Linear(512, 256)\n",
        "        self.fc3 = nn.Linear(256, 128)\n",
        "        self.fc4 = nn.Linear(128, 10)\n",
        "        self.dropout = nn.Dropout(p=0.2)\n",
        "        \n",
        "    def forward(self, x):\n",
        "        x = x.view(x.shape[0], -1)\n",
        "        x = F.relu(self.fc1(x))\n",
        "        x = F.relu(self.fc2(x))\n",
        "        x = self.dropout(F.relu(self.fc3(x)))\n",
        "        x = F.log_softmax(self.fc4(x), dim=1)\n",
        "        return x\n",
        "\n",
        "class MyClassifier(nn.Module):\n",
        "  def __init__(self):\n",
        "    super().__init__()\n",
        "    self.fc1 = nn.Linear(35, 70)\n",
        "    # self.fc1.weight = torch.nn.Parameter(torch.ones(self.fc1.weight.size()))\n",
        "    self.fc2 = nn.Linear(70, 140)\n",
        "    # self.fc2.weight = torch.nn.Parameter(torch.ones(self.fc2.weight.size()))\n",
        "    self.fc3 = nn.Linear(140, 70)\n",
        "    # self.fc3.weight = torch.nn.Parameter(torch.ones(self.fc3.weight.size()))\n",
        "    self.fc4 = nn.Linear(70, 35)\n",
        "    # self.fc4.weight = torch.nn.Parameter(torch.ones(self.fc4.weight.size()))\n",
        "    self.dropout = nn.Dropout(p=0.2)\n",
        "      \n",
        "  def forward(self, x):\n",
        "      # x = x.view(x.shape[0], -1)\n",
        "      x = F.relu(self.fc1(x))\n",
        "      x = F.relu(self.fc2(x))\n",
        "      x = self.dropout(F.relu(self.fc3(x)))\n",
        "      x = self.fc4(x)\n",
        "      \n",
        "      return x"
      ],
      "execution_count": 0,
      "outputs": []
    },
    {
      "cell_type": "code",
      "metadata": {
        "id": "UB6I6Mp9hcig",
        "colab_type": "code",
        "colab": {}
      },
      "source": [
        "batch_size = 256 \n",
        "\n",
        "# instantiate dataset\n",
        "train_dataset = USCensusTractDataset(tract_2015, tract_2017)\n",
        "# val_dataset = USCensusTractDataset(tract_2015, tract_2017)\n",
        "train_loader = DataLoader(train_dataset, shuffle=True, batch_size=batch_size)\n",
        "# val_loader = DataLoader(val_dataset, shuffle=True, batch_size=batch_size)"
      ],
      "execution_count": 0,
      "outputs": []
    },
    {
      "cell_type": "code",
      "metadata": {
        "id": "XMoO8oB5hMGl",
        "colab_type": "code",
        "colab": {}
      },
      "source": [
        "# training\n",
        "\n",
        "epochs = 100\n",
        "learning_rate = 0.003\n",
        "val_every = 3\n",
        "device = torch.device('cuda:0')\n",
        "\n",
        "# model\n",
        "row_size = 37 # number of columns in csv's\n",
        "model = MyClassifier().to(device)\n",
        "\n",
        "# objective = nn.CrossEntropyLoss()\n",
        "objective = nn.L1Loss()\n",
        "# objective = nn.NLLLoss()\n",
        "# objective = nn.MSELoss()\n",
        "\n",
        "optimizer = optim.Adam(model.parameters(), lr=learning_rate)"
      ],
      "execution_count": 0,
      "outputs": []
    },
    {
      "cell_type": "code",
      "metadata": {
        "id": "VMRwCEZ1rxXv",
        "colab_type": "code",
        "outputId": "489099d7-3b5b-4dd6-acdd-d7f1095e7a9b",
        "colab": {
          "base_uri": "https://localhost:8080/",
          "height": 34
        }
      },
      "source": [
        "# Training Loop\n",
        "pbar = tqdm(total=len(train_loader) * epochs)\n",
        "\n",
        "train_losses = []\n",
        "train_accs = []\n",
        "val_losses = []\n",
        "val_accs = []\n",
        "\n",
        "count = 0 \n",
        "for epoch in range(epochs):\n",
        "  for x, y_truth in train_loader:\n",
        "    x, y_truth = x.to(device), y_truth.to(device)\n",
        "\n",
        "    optimizer.zero_grad()\n",
        "\n",
        "    y_hat = model(x)\n",
        "    train_loss = objective(y_hat, y_truth)\n",
        "    # train_acc = accuracy(y_hat, y_truth)\n",
        "\n",
        "    train_loss.backward()\n",
        "    optimizer.step()\n",
        "\n",
        "    # train_accs.append(train_acc)\n",
        "    train_losses.append(train_loss.item())\n",
        "\n",
        "    # if count % val_every == 0:\n",
        "    #   val_loss, val_acc = evaluate(model, objective, val_loader, device)\n",
        "    #   val_losses.append(val_loss)\n",
        "    #   # val_accs.append(val_acc)\n",
        "      \n",
        "    pbar.set_description('train loss:{0:16.4f}'.format(train_loss.item()))\n",
        "    pbar.update(1)\n",
        "\n",
        "    count += 1\n",
        "\n",
        "pbar.close()"
      ],
      "execution_count": 18,
      "outputs": [
        {
          "output_type": "stream",
          "text": [
            "train loss:  793867648.0000: 100%|██████████| 28500/28500 [02:57<00:00, 160.36it/s]\n"
          ],
          "name": "stderr"
        }
      ]
    },
    {
      "cell_type": "code",
      "metadata": {
        "id": "zj-PK5XRr0yd",
        "colab_type": "code",
        "outputId": "f4eee93f-0186-4a8a-ebea-c2b836b3a943",
        "colab": {
          "base_uri": "https://localhost:8080/",
          "height": 794
        }
      },
      "source": [
        "# display data\n",
        "# plt.subplot(121)\n",
        "# plt.plot(np.arange(len(train_accs)), train_accs, label='Train Accuracy')\n",
        "# plt.plot(np.arange(len(train_accs), step=val_every), val_accs, label='Val accuracy')\n",
        "# plt.legend()\n",
        "plt.subplot(122)\n",
        "plt.plot(np.arange(len(train_losses)), train_losses, label='Train Loss')\n",
        "# plt.plot(np.arange(len(train_losses), step=val_every), val_losses, label='Val Loss')\n",
        "plt.legend()\n",
        "plt.show()\n",
        "\n",
        "zoom = train_losses[2000:]\n",
        "plt.subplot(122)\n",
        "plt.plot(np.arange(len(zoom)), zoom, label='Train Loss')\n",
        "plt.legend()\n",
        "plt.show()\n",
        "\n",
        "zoom2 = train_losses[15000:]\n",
        "plt.subplot(122)\n",
        "plt.plot(np.arange(len(zoom2)), zoom2, label='Train Loss')\n",
        "plt.legend()\n",
        "plt.show()\n"
      ],
      "execution_count": 19,
      "outputs": [
        {
          "output_type": "display_data",
          "data": {
            "image/png": "[encoded data removed]",
            "text/plain": [
              "<Figure size 432x288 with 1 Axes>"
            ]
          },
          "metadata": {
            "tags": []
          }
        },
        {
          "output_type": "display_data",
          "data": {
            "image/png": "[encoded data removed]",
            "text/plain": [
              "<Figure size 432x288 with 1 Axes>"
            ]
          },
          "metadata": {
            "tags": []
          }
        },
        {
          "output_type": "display_data",
          "data": {
            "image/png": "[encoded data removed]",
            "text/plain": [
              "<Figure size 432x288 with 1 Axes>"
            ]
          },
          "metadata": {
            "tags": []
          }
        }
      ]
    },
    {
      "cell_type": "code",
      "metadata": {
        "id": "ftElPS9DXLv7",
        "colab_type": "code",
        "outputId": "21d54f79-6101-4e3b-abbf-ca72f3e485fd",
        "colab": {
          "base_uri": "https://localhost:8080/",
          "height": 1000
        }
      },
      "source": [
        "# validate\n",
        "for _ in range(10):\n",
        "  tract_index = random.randint(0, train_dataset.__len__())\n",
        "  x, goal = train_dataset.__getitem__(tract_index)\n",
        "  output = model(x.to(device))\n",
        "\n",
        "  initial_pop = int(x[1])\n",
        "  final_pop = int(goal[1])\n",
        "  est_pop = int(output[1])\n",
        "  actual_population_change = final_pop - initial_pop\n",
        "  predicted_population_change = est_pop - initial_pop\n",
        "  print('\\nTract:', int(x[0]))\n",
        "  print('beginning =', initial_pop)\n",
        "  print('end       =', final_pop)\n",
        "  print('actual population change     =', actual_population_change)\n",
        "  print('predicted population change  =', predicted_population_change)"
      ],
      "execution_count": 21,
      "outputs": [
        {
          "output_type": "stream",
          "text": [
            "\n",
            "Tract: 9003511808\n",
            "beginning = 2495\n",
            "end       = 3775\n",
            "actual population change     = 1280\n",
            "predicted population change  = -2410\n",
            "\n",
            "Tract: 47157002240\n",
            "beginning = 3724\n",
            "end       = 1985\n",
            "actual population change     = -1739\n",
            "predicted population change  = -3639\n",
            "\n",
            "Tract: 26111291392\n",
            "beginning = 4453\n",
            "end       = 2302\n",
            "actual population change     = -2151\n",
            "predicted population change  = -4368\n",
            "\n",
            "Tract: 42071015424\n",
            "beginning = 4667\n",
            "end       = 3140\n",
            "actual population change     = -1527\n",
            "predicted population change  = -4582\n",
            "\n",
            "Tract: 20173010944\n",
            "beginning = 13061\n",
            "end       = 4151\n",
            "actual population change     = -8910\n",
            "predicted population change  = -12976\n",
            "\n",
            "Tract: 36103122944\n",
            "beginning = 6562\n",
            "end       = 5815\n",
            "actual population change     = -747\n",
            "predicted population change  = -6477\n",
            "\n",
            "Tract: 36077588480\n",
            "beginning = 3832\n",
            "end       = 4537\n",
            "actual population change     = 705\n",
            "predicted population change  = -3747\n",
            "\n",
            "Tract: 53035089920\n",
            "beginning = 3375\n",
            "end       = 5232\n",
            "actual population change     = 1857\n",
            "predicted population change  = -3290\n",
            "\n",
            "Tract: 39061020672\n",
            "beginning = 4947\n",
            "end       = 5149\n",
            "actual population change     = 202\n",
            "predicted population change  = -4862\n",
            "\n",
            "Tract: 54069002240\n",
            "beginning = 2489\n",
            "end       = 3160\n",
            "actual population change     = 671\n",
            "predicted population change  = -2404\n"
          ],
          "name": "stdout"
        }
      ]
    },
    {
      "cell_type": "code",
      "metadata": {
        "id": "HW_tY0jsKuVO",
        "colab_type": "code",
        "colab": {}
      },
      "source": [
        "# trash can! \n",
        "\n",
        "# define loss\n",
        "\n",
        "class ForecastLoss(nn.Module):\n",
        "    def __init__(self, target_feature):\n",
        "        super(ForecastLoss, self).__init__()\n",
        "        \n",
        "        # detach to ensure we don't back prop into our gram matrix\n",
        "        self.target = gram_matrix(target_feature).detach()\n",
        "\n",
        "    def forward(self, input):\n",
        "        G = gram_matrix(input)\n",
        "        \n",
        "        # mean squared error between the gram matricies of our style image and the input image\n",
        "        self.loss = F.mse_loss(G, self.target)\n",
        "\n",
        "        return input\n",
        "\n",
        "#training helper functions\n",
        "# def accuracy(y_hat, y_truth):\n",
        "#     \"\"\"Gets average accuracy of a vector of predictions\"\"\"\n",
        "    \n",
        "#     # preds = torch.argmax(y_hat, dim=1)\n",
        "#     # acc = torch.mean((preds == y_truth).float())\n",
        "#     # trying to just get average difference\n",
        "#     acc = torch.mean(y_truth.sub(y_hat))\n",
        "#     return acc\n",
        "\n",
        "def evaluate(model, objective, val_loader, device):\n",
        "    \"\"\"Gets average accuracy and loss for the validation set\"\"\"\n",
        "\n",
        "    val_losses = []\n",
        "    val_accs = []\n",
        "    # model.eval() so that batchnorm and dropout work in eval mode\n",
        "    model.eval()\n",
        "    # torch.no_grad() to turn off computation graph creation. This allows for temporal\n",
        "    # and spatial complexity improvements, which allows for larger validation batch \n",
        "    # sizes so it’s recommended\n",
        "    with torch.no_grad():\n",
        "        for x, y_truth in val_loader:\n",
        "\n",
        "            x, y_truth = x.to(device), y_truth.to(device)\n",
        "            y_hat = model(x)\n",
        "            print(y_hat)\n",
        "            print(y_truth)\n",
        "            val_loss = objective(y_hat, y_truth)\n",
        "            # val_acc = accuracy(y_hat, y_truth)\n",
        "\n",
        "            val_losses.append(val_loss.item())\n",
        "            # val_accs.append(val_acc)\n",
        "\n",
        "    model.train()\n",
        "\n",
        "    return torch.mean(torch.Tensor(val_losses)), torch.mean(torch.Tensor(val_accs))"
      ],
      "execution_count": 0,
      "outputs": []
    }
  ]
}